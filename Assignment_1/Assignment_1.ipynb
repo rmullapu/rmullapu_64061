{
  "nbformat": 4,
  "nbformat_minor": 0,
  "metadata": {
    "colab": {
      "name": "Assignment_1.ipynb",
      "provenance": []
    },
    "kernelspec": {
      "name": "python3",
      "display_name": "Python 3"
    },
    "language_info": {
      "name": "python"
    }
  },
  "cells": [
    {
      "cell_type": "code",
      "source": [
        "import numpy as np\n",
        "import keras\n",
        "import matplotlib \n",
        "import matplotlib.pyplot as plt\n",
        "\n",
        "from keras import models\n",
        "from keras import layers"
      ],
      "metadata": {
        "id": "MBIfEwK6kdTS"
      },
      "execution_count": 23,
      "outputs": []
    },
    {
      "cell_type": "code",
      "execution_count": 24,
      "metadata": {
        "id": "2bSWCo3RKsPw"
      },
      "outputs": [],
      "source": [
        "from keras.datasets import imdb\n",
        "(train_data, train_labels), (test_data, test_labels) = imdb.load_data( num_words=10000)"
      ]
    },
    {
      "cell_type": "code",
      "source": [
        "train_data[0]"
      ],
      "metadata": {
        "colab": {
          "base_uri": "https://localhost:8080/"
        },
        "id": "nR47sm-pLc2d",
        "outputId": "daedc370-ad47-4383-86ab-9af2921af5bf"
      },
      "execution_count": 5,
      "outputs": [
        {
          "output_type": "execute_result",
          "data": {
            "text/plain": [
              "[1,\n",
              " 14,\n",
              " 22,\n",
              " 16,\n",
              " 43,\n",
              " 530,\n",
              " 973,\n",
              " 1622,\n",
              " 1385,\n",
              " 65,\n",
              " 458,\n",
              " 4468,\n",
              " 66,\n",
              " 3941,\n",
              " 4,\n",
              " 173,\n",
              " 36,\n",
              " 256,\n",
              " 5,\n",
              " 25,\n",
              " 100,\n",
              " 43,\n",
              " 838,\n",
              " 112,\n",
              " 50,\n",
              " 670,\n",
              " 2,\n",
              " 9,\n",
              " 35,\n",
              " 480,\n",
              " 284,\n",
              " 5,\n",
              " 150,\n",
              " 4,\n",
              " 172,\n",
              " 112,\n",
              " 167,\n",
              " 2,\n",
              " 336,\n",
              " 385,\n",
              " 39,\n",
              " 4,\n",
              " 172,\n",
              " 4536,\n",
              " 1111,\n",
              " 17,\n",
              " 546,\n",
              " 38,\n",
              " 13,\n",
              " 447,\n",
              " 4,\n",
              " 192,\n",
              " 50,\n",
              " 16,\n",
              " 6,\n",
              " 147,\n",
              " 2025,\n",
              " 19,\n",
              " 14,\n",
              " 22,\n",
              " 4,\n",
              " 1920,\n",
              " 4613,\n",
              " 469,\n",
              " 4,\n",
              " 22,\n",
              " 71,\n",
              " 87,\n",
              " 12,\n",
              " 16,\n",
              " 43,\n",
              " 530,\n",
              " 38,\n",
              " 76,\n",
              " 15,\n",
              " 13,\n",
              " 1247,\n",
              " 4,\n",
              " 22,\n",
              " 17,\n",
              " 515,\n",
              " 17,\n",
              " 12,\n",
              " 16,\n",
              " 626,\n",
              " 18,\n",
              " 2,\n",
              " 5,\n",
              " 62,\n",
              " 386,\n",
              " 12,\n",
              " 8,\n",
              " 316,\n",
              " 8,\n",
              " 106,\n",
              " 5,\n",
              " 4,\n",
              " 2223,\n",
              " 5244,\n",
              " 16,\n",
              " 480,\n",
              " 66,\n",
              " 3785,\n",
              " 33,\n",
              " 4,\n",
              " 130,\n",
              " 12,\n",
              " 16,\n",
              " 38,\n",
              " 619,\n",
              " 5,\n",
              " 25,\n",
              " 124,\n",
              " 51,\n",
              " 36,\n",
              " 135,\n",
              " 48,\n",
              " 25,\n",
              " 1415,\n",
              " 33,\n",
              " 6,\n",
              " 22,\n",
              " 12,\n",
              " 215,\n",
              " 28,\n",
              " 77,\n",
              " 52,\n",
              " 5,\n",
              " 14,\n",
              " 407,\n",
              " 16,\n",
              " 82,\n",
              " 2,\n",
              " 8,\n",
              " 4,\n",
              " 107,\n",
              " 117,\n",
              " 5952,\n",
              " 15,\n",
              " 256,\n",
              " 4,\n",
              " 2,\n",
              " 7,\n",
              " 3766,\n",
              " 5,\n",
              " 723,\n",
              " 36,\n",
              " 71,\n",
              " 43,\n",
              " 530,\n",
              " 476,\n",
              " 26,\n",
              " 400,\n",
              " 317,\n",
              " 46,\n",
              " 7,\n",
              " 4,\n",
              " 2,\n",
              " 1029,\n",
              " 13,\n",
              " 104,\n",
              " 88,\n",
              " 4,\n",
              " 381,\n",
              " 15,\n",
              " 297,\n",
              " 98,\n",
              " 32,\n",
              " 2071,\n",
              " 56,\n",
              " 26,\n",
              " 141,\n",
              " 6,\n",
              " 194,\n",
              " 7486,\n",
              " 18,\n",
              " 4,\n",
              " 226,\n",
              " 22,\n",
              " 21,\n",
              " 134,\n",
              " 476,\n",
              " 26,\n",
              " 480,\n",
              " 5,\n",
              " 144,\n",
              " 30,\n",
              " 5535,\n",
              " 18,\n",
              " 51,\n",
              " 36,\n",
              " 28,\n",
              " 224,\n",
              " 92,\n",
              " 25,\n",
              " 104,\n",
              " 4,\n",
              " 226,\n",
              " 65,\n",
              " 16,\n",
              " 38,\n",
              " 1334,\n",
              " 88,\n",
              " 12,\n",
              " 16,\n",
              " 283,\n",
              " 5,\n",
              " 16,\n",
              " 4472,\n",
              " 113,\n",
              " 103,\n",
              " 32,\n",
              " 15,\n",
              " 16,\n",
              " 5345,\n",
              " 19,\n",
              " 178,\n",
              " 32]"
            ]
          },
          "metadata": {},
          "execution_count": 5
        }
      ]
    },
    {
      "cell_type": "code",
      "source": [
        "train_labels[0]"
      ],
      "metadata": {
        "colab": {
          "base_uri": "https://localhost:8080/"
        },
        "id": "GKonaf8iSnry",
        "outputId": "d1b095a3-ec08-4b03-caaf-3b355ebad4f4"
      },
      "execution_count": 25,
      "outputs": [
        {
          "output_type": "execute_result",
          "data": {
            "text/plain": [
              "1"
            ]
          },
          "metadata": {},
          "execution_count": 25
        }
      ]
    },
    {
      "cell_type": "code",
      "source": [
        "max([max(sequence) for sequence in train_data])"
      ],
      "metadata": {
        "colab": {
          "base_uri": "https://localhost:8080/"
        },
        "id": "ccfnxiE7SyZw",
        "outputId": "65b4a47a-27bb-46de-b741-6595813fa2c7"
      },
      "execution_count": 7,
      "outputs": [
        {
          "output_type": "execute_result",
          "data": {
            "text/plain": [
              "9999"
            ]
          },
          "metadata": {},
          "execution_count": 7
        }
      ]
    },
    {
      "cell_type": "code",
      "source": [
        "word_index = imdb.get_word_index()\n",
        "\n",
        "reverse_word_index = dict([(value, key) for (key, value) in word_index.items()])\n",
        "\n",
        "decoded_review = \" \".join([reverse_word_index.get(i - 3, \"?\") for i in train_data[0]])"
      ],
      "metadata": {
        "id": "GAZ0pLkKS-JS"
      },
      "execution_count": 8,
      "outputs": []
    },
    {
      "cell_type": "markdown",
      "source": [
        "Data Preparation "
      ],
      "metadata": {
        "id": "WVxu3LFBgN03"
      }
    },
    {
      "cell_type": "code",
      "source": [
        "import numpy as np\n",
        "def vectorize_sequences(sequences, dimension=10000):   #creates a matrix of shape (len(sequences) , dimension) \n",
        "    results = np.zeros((len(sequences), dimension))\n",
        "    for i, sequence in enumerate(sequences):\n",
        "        for j in sequence:\n",
        "            results[i, j] = 1.      \n",
        "    return results"
      ],
      "metadata": {
        "id": "kekixMuxgRaY"
      },
      "execution_count": 9,
      "outputs": []
    },
    {
      "cell_type": "markdown",
      "source": [
        "Divide data into Training and Test sets "
      ],
      "metadata": {
        "id": "8uoWWXl6hQrr"
      }
    },
    {
      "cell_type": "code",
      "source": [
        "x_train = vectorize_sequences(train_data)\n",
        "x_test = vectorize_sequences(test_data)\n",
        "\n",
        "y_train = np.asarray(train_labels).astype(\"float32\")\n",
        "y_test = np.asarray(test_labels).astype(\"float32\")\n",
        "\n",
        "x_train[0]"
      ],
      "metadata": {
        "colab": {
          "base_uri": "https://localhost:8080/"
        },
        "id": "-qTC2UimhcCu",
        "outputId": "2d40024c-9b6b-4a93-d5f3-2368a6d6927d"
      },
      "execution_count": 10,
      "outputs": [
        {
          "output_type": "execute_result",
          "data": {
            "text/plain": [
              "array([0., 1., 1., ..., 0., 0., 0.])"
            ]
          },
          "metadata": {},
          "execution_count": 10
        }
      ]
    },
    {
      "cell_type": "markdown",
      "source": [
        "**1. You used two hidden layers. Try using one or three hidden layers, and see how doing so affects validation and test accuracy.**"
      ],
      "metadata": {
        "id": "D5SgmCeNjkMa"
      }
    },
    {
      "cell_type": "code",
      "source": [
        "#Building model with 2, 3 layers\n",
        "\n",
        "model_2 = keras.Sequential([\n",
        "    layers.Dense(16, activation=\"relu\"),\n",
        "    layers.Dense(16, activation=\"relu\"),\n",
        "    layers.Dense(1, activation=\"sigmoid\")\n",
        "])\n",
        "\n",
        "model_3 = keras.Sequential([\n",
        "    layers.Dense(16, activation=\"relu\"),\n",
        "    layers.Dense(16, activation=\"relu\"),\n",
        "    layers.Dense(16, activation=\"relu\"),\n",
        "    layers.Dense(1, activation=\"sigmoid\")\n",
        "])"
      ],
      "metadata": {
        "id": "tzP1TAIUjm0A"
      },
      "execution_count": 11,
      "outputs": []
    },
    {
      "cell_type": "code",
      "source": [
        "#Compling the models\n",
        "\n",
        "model_2.compile(optimizer=\"rmsprop\",\n",
        "              loss=\"binary_crossentropy\",\n",
        "              metrics=[\"accuracy\"])\n",
        "\n",
        "model_3.compile(optimizer=\"rmsprop\",\n",
        "              loss=\"binary_crossentropy\",\n",
        "              metrics=[\"accuracy\"])"
      ],
      "metadata": {
        "id": "oKE2SBR0mJz-"
      },
      "execution_count": 12,
      "outputs": []
    },
    {
      "cell_type": "code",
      "source": [
        "# Seperating validation sets from training set\n",
        "x_val = x_train[:10000]\n",
        "partial_x_train = x_train[10000:]\n",
        "\n",
        "y_val = y_train[:10000]\n",
        "partial_y_train = y_train[10000:]"
      ],
      "metadata": {
        "id": "UOD1qLL9mpHU"
      },
      "execution_count": 13,
      "outputs": []
    },
    {
      "cell_type": "code",
      "source": [
        "# Since the validation sets are created its time to train the models\n",
        "history_2 = model_2.fit(partial_x_train,\n",
        "                    partial_y_train,\n",
        "                    epochs=20,\n",
        "                    batch_size=512,\n",
        "                    validation_data=(x_val, y_val))"
      ],
      "metadata": {
        "colab": {
          "base_uri": "https://localhost:8080/"
        },
        "id": "-xlBb9iynDRt",
        "outputId": "a767c718-0b95-4f01-cf2b-dc700d7084cd"
      },
      "execution_count": 14,
      "outputs": [
        {
          "output_type": "stream",
          "name": "stdout",
          "text": [
            "Epoch 1/20\n",
            "30/30 [==============================] - 2s 51ms/step - loss: 0.5210 - accuracy: 0.7722 - val_loss: 0.3906 - val_accuracy: 0.8756\n",
            "Epoch 2/20\n",
            "30/30 [==============================] - 1s 40ms/step - loss: 0.3149 - accuracy: 0.9029 - val_loss: 0.3180 - val_accuracy: 0.8807\n",
            "Epoch 3/20\n",
            "30/30 [==============================] - 1s 36ms/step - loss: 0.2322 - accuracy: 0.9285 - val_loss: 0.3104 - val_accuracy: 0.8744\n",
            "Epoch 4/20\n",
            "30/30 [==============================] - 1s 37ms/step - loss: 0.1827 - accuracy: 0.9448 - val_loss: 0.2780 - val_accuracy: 0.8885\n",
            "Epoch 5/20\n",
            "30/30 [==============================] - 1s 38ms/step - loss: 0.1523 - accuracy: 0.9522 - val_loss: 0.2866 - val_accuracy: 0.8859\n",
            "Epoch 6/20\n",
            "30/30 [==============================] - 1s 37ms/step - loss: 0.1263 - accuracy: 0.9615 - val_loss: 0.3215 - val_accuracy: 0.8761\n",
            "Epoch 7/20\n",
            "30/30 [==============================] - 1s 38ms/step - loss: 0.1056 - accuracy: 0.9690 - val_loss: 0.3622 - val_accuracy: 0.8666\n",
            "Epoch 8/20\n",
            "30/30 [==============================] - 1s 37ms/step - loss: 0.0910 - accuracy: 0.9741 - val_loss: 0.3396 - val_accuracy: 0.8769\n",
            "Epoch 9/20\n",
            "30/30 [==============================] - 1s 38ms/step - loss: 0.0760 - accuracy: 0.9793 - val_loss: 0.3379 - val_accuracy: 0.8828\n",
            "Epoch 10/20\n",
            "30/30 [==============================] - 1s 38ms/step - loss: 0.0630 - accuracy: 0.9841 - val_loss: 0.3730 - val_accuracy: 0.8768\n",
            "Epoch 11/20\n",
            "30/30 [==============================] - 1s 37ms/step - loss: 0.0520 - accuracy: 0.9884 - val_loss: 0.3902 - val_accuracy: 0.8772\n",
            "Epoch 12/20\n",
            "30/30 [==============================] - 1s 38ms/step - loss: 0.0432 - accuracy: 0.9913 - val_loss: 0.4070 - val_accuracy: 0.8787\n",
            "Epoch 13/20\n",
            "30/30 [==============================] - 1s 38ms/step - loss: 0.0346 - accuracy: 0.9927 - val_loss: 0.4307 - val_accuracy: 0.8755\n",
            "Epoch 14/20\n",
            "30/30 [==============================] - 1s 37ms/step - loss: 0.0292 - accuracy: 0.9948 - val_loss: 0.4670 - val_accuracy: 0.8739\n",
            "Epoch 15/20\n",
            "30/30 [==============================] - 1s 38ms/step - loss: 0.0221 - accuracy: 0.9970 - val_loss: 0.5458 - val_accuracy: 0.8582\n",
            "Epoch 16/20\n",
            "30/30 [==============================] - 1s 38ms/step - loss: 0.0175 - accuracy: 0.9977 - val_loss: 0.5912 - val_accuracy: 0.8558\n",
            "Epoch 17/20\n",
            "30/30 [==============================] - 1s 38ms/step - loss: 0.0141 - accuracy: 0.9985 - val_loss: 0.5412 - val_accuracy: 0.8718\n",
            "Epoch 18/20\n",
            "30/30 [==============================] - 1s 37ms/step - loss: 0.0112 - accuracy: 0.9985 - val_loss: 0.5703 - val_accuracy: 0.8707\n",
            "Epoch 19/20\n",
            "30/30 [==============================] - 1s 37ms/step - loss: 0.0093 - accuracy: 0.9992 - val_loss: 0.6028 - val_accuracy: 0.8692\n",
            "Epoch 20/20\n",
            "30/30 [==============================] - 1s 41ms/step - loss: 0.0054 - accuracy: 0.9997 - val_loss: 0.6414 - val_accuracy: 0.8687\n"
          ]
        }
      ]
    },
    {
      "cell_type": "code",
      "source": [
        "history_3 = model_3.fit(partial_x_train,\n",
        "                    partial_y_train,\n",
        "                    epochs=20,\n",
        "                    batch_size=512,\n",
        "                    validation_data=(x_val, y_val))"
      ],
      "metadata": {
        "colab": {
          "base_uri": "https://localhost:8080/"
        },
        "id": "4OghptpHjsZf",
        "outputId": "8f874758-2885-4d3b-e3ea-4d923a8ee902"
      },
      "execution_count": 15,
      "outputs": [
        {
          "output_type": "stream",
          "name": "stdout",
          "text": [
            "Epoch 1/20\n",
            "30/30 [==============================] - 3s 60ms/step - loss: 0.5182 - accuracy: 0.7899 - val_loss: 0.3763 - val_accuracy: 0.8757\n",
            "Epoch 2/20\n",
            "30/30 [==============================] - 1s 38ms/step - loss: 0.2944 - accuracy: 0.9076 - val_loss: 0.3155 - val_accuracy: 0.8784\n",
            "Epoch 3/20\n",
            "30/30 [==============================] - 1s 40ms/step - loss: 0.2119 - accuracy: 0.9303 - val_loss: 0.2765 - val_accuracy: 0.8903\n",
            "Epoch 4/20\n",
            "30/30 [==============================] - 1s 36ms/step - loss: 0.1649 - accuracy: 0.9461 - val_loss: 0.3049 - val_accuracy: 0.8788\n",
            "Epoch 5/20\n",
            "30/30 [==============================] - 1s 37ms/step - loss: 0.1330 - accuracy: 0.9565 - val_loss: 0.2888 - val_accuracy: 0.8885\n",
            "Epoch 6/20\n",
            "30/30 [==============================] - 1s 37ms/step - loss: 0.1065 - accuracy: 0.9659 - val_loss: 0.3492 - val_accuracy: 0.8760\n",
            "Epoch 7/20\n",
            "30/30 [==============================] - 1s 40ms/step - loss: 0.0890 - accuracy: 0.9727 - val_loss: 0.3403 - val_accuracy: 0.8816\n",
            "Epoch 8/20\n",
            "30/30 [==============================] - 1s 37ms/step - loss: 0.0682 - accuracy: 0.9806 - val_loss: 0.3655 - val_accuracy: 0.8777\n",
            "Epoch 9/20\n",
            "30/30 [==============================] - 1s 41ms/step - loss: 0.0573 - accuracy: 0.9846 - val_loss: 0.3767 - val_accuracy: 0.8793\n",
            "Epoch 10/20\n",
            "30/30 [==============================] - 1s 37ms/step - loss: 0.0424 - accuracy: 0.9897 - val_loss: 0.4398 - val_accuracy: 0.8701\n",
            "Epoch 11/20\n",
            "30/30 [==============================] - 1s 37ms/step - loss: 0.0331 - accuracy: 0.9928 - val_loss: 0.4437 - val_accuracy: 0.8756\n",
            "Epoch 12/20\n",
            "30/30 [==============================] - 1s 37ms/step - loss: 0.0284 - accuracy: 0.9935 - val_loss: 0.4797 - val_accuracy: 0.8723\n",
            "Epoch 13/20\n",
            "30/30 [==============================] - 1s 37ms/step - loss: 0.0160 - accuracy: 0.9977 - val_loss: 0.5130 - val_accuracy: 0.8722\n",
            "Epoch 14/20\n",
            "30/30 [==============================] - 1s 38ms/step - loss: 0.0172 - accuracy: 0.9957 - val_loss: 0.5545 - val_accuracy: 0.8727\n",
            "Epoch 15/20\n",
            "30/30 [==============================] - 1s 40ms/step - loss: 0.0062 - accuracy: 0.9997 - val_loss: 0.6128 - val_accuracy: 0.8676\n",
            "Epoch 16/20\n",
            "30/30 [==============================] - 1s 38ms/step - loss: 0.0151 - accuracy: 0.9963 - val_loss: 0.6285 - val_accuracy: 0.8713\n",
            "Epoch 17/20\n",
            "30/30 [==============================] - 1s 40ms/step - loss: 0.0030 - accuracy: 0.9999 - val_loss: 0.6661 - val_accuracy: 0.8693\n",
            "Epoch 18/20\n",
            "30/30 [==============================] - 1s 38ms/step - loss: 0.0136 - accuracy: 0.9953 - val_loss: 0.7046 - val_accuracy: 0.8698\n",
            "Epoch 19/20\n",
            "30/30 [==============================] - 1s 36ms/step - loss: 0.0016 - accuracy: 0.9999 - val_loss: 0.7253 - val_accuracy: 0.8691\n",
            "Epoch 20/20\n",
            "30/30 [==============================] - 1s 36ms/step - loss: 0.0013 - accuracy: 0.9999 - val_loss: 0.8116 - val_accuracy: 0.8621\n"
          ]
        }
      ]
    },
    {
      "cell_type": "code",
      "source": [
        "model_2.summary()\n",
        "history_dict_2 = history_2.history\n",
        "history_dict_2.keys()\n",
        "\n",
        "model_3.summary()\n",
        "history_dict_3 = history_3.history\n",
        "history_dict_3.keys()"
      ],
      "metadata": {
        "colab": {
          "base_uri": "https://localhost:8080/"
        },
        "id": "O36OMwSsoc2n",
        "outputId": "c9089ac2-68a5-42e0-95a3-51e5a512ee12"
      },
      "execution_count": 16,
      "outputs": [
        {
          "output_type": "stream",
          "name": "stdout",
          "text": [
            "Model: \"sequential\"\n",
            "_________________________________________________________________\n",
            " Layer (type)                Output Shape              Param #   \n",
            "=================================================================\n",
            " dense (Dense)               (None, 16)                160016    \n",
            "                                                                 \n",
            " dense_1 (Dense)             (None, 16)                272       \n",
            "                                                                 \n",
            " dense_2 (Dense)             (None, 1)                 17        \n",
            "                                                                 \n",
            "=================================================================\n",
            "Total params: 160,305\n",
            "Trainable params: 160,305\n",
            "Non-trainable params: 0\n",
            "_________________________________________________________________\n",
            "Model: \"sequential_1\"\n",
            "_________________________________________________________________\n",
            " Layer (type)                Output Shape              Param #   \n",
            "=================================================================\n",
            " dense_3 (Dense)             (None, 16)                160016    \n",
            "                                                                 \n",
            " dense_4 (Dense)             (None, 16)                272       \n",
            "                                                                 \n",
            " dense_5 (Dense)             (None, 16)                272       \n",
            "                                                                 \n",
            " dense_6 (Dense)             (None, 1)                 17        \n",
            "                                                                 \n",
            "=================================================================\n",
            "Total params: 160,577\n",
            "Trainable params: 160,577\n",
            "Non-trainable params: 0\n",
            "_________________________________________________________________\n"
          ]
        },
        {
          "output_type": "execute_result",
          "data": {
            "text/plain": [
              "dict_keys(['loss', 'accuracy', 'val_loss', 'val_accuracy'])"
            ]
          },
          "metadata": {},
          "execution_count": 16
        }
      ]
    },
    {
      "cell_type": "markdown",
      "source": [
        "Plotting the losses"
      ],
      "metadata": {
        "id": "q5Yico4ZugKD"
      }
    },
    {
      "cell_type": "code",
      "source": [
        "#Model_2 Losses\n",
        "history_dict_2 = history_2.history\n",
        "loss_values = history_dict_2[\"loss\"]\n",
        "val_loss_values = history_dict_2[\"val_loss\"]\n",
        "epochs = range(1, len(loss_values) + 1)\n",
        "plt.plot(epochs, loss_values, \"ro\", label=\"Training loss\")\n",
        "plt.plot(epochs, val_loss_values, \"b\", label=\"Validation loss\")\n",
        "plt.title(\"Model_2 Training and validation loss\")\n",
        "plt.xlabel(\"Epochs\")\n",
        "plt.ylabel(\"Loss\")\n",
        "plt.legend()\n",
        "plt.show()"
      ],
      "metadata": {
        "colab": {
          "base_uri": "https://localhost:8080/",
          "height": 295
        },
        "id": "QqHXhn5mwyuN",
        "outputId": "7a955e7c-b5ff-4509-85b5-36d6a094df58"
      },
      "execution_count": 17,
      "outputs": [
        {
          "output_type": "display_data",
          "data": {
            "image/png": "[encoded data removed]",
            "text/plain": [
              "<Figure size 432x288 with 1 Axes>"
            ]
          },
          "metadata": {
            "needs_background": "light"
          }
        }
      ]
    },
    {
      "cell_type": "code",
      "source": [
        "#Model_3 Losses\n",
        "history_dict_3 = history_3.history\n",
        "loss_values = history_dict_3[\"loss\"]\n",
        "val_loss_values = history_dict_3[\"val_loss\"]\n",
        "epochs = range(1, len(loss_values) + 1)\n",
        "plt.plot(epochs, loss_values, \"ro\", label=\"Training loss\")\n",
        "plt.plot(epochs, val_loss_values, \"b\", label=\"Validation loss\")\n",
        "plt.title(\"Model_3 Training and validation loss\")\n",
        "plt.xlabel(\"Epochs\")\n",
        "plt.ylabel(\"Loss\")\n",
        "plt.legend()\n",
        "plt.show()"
      ],
      "metadata": {
        "colab": {
          "base_uri": "https://localhost:8080/",
          "height": 295
        },
        "id": "nwEXTLi9fKAh",
        "outputId": "63c76654-e4cc-4d0a-f9d0-e54e184148d5"
      },
      "execution_count": 18,
      "outputs": [
        {
          "output_type": "display_data",
          "data": {
            "image/png": "[encoded data removed]",
            "text/plain": [
              "<Figure size 432x288 with 1 Axes>"
            ]
          },
          "metadata": {
            "needs_background": "light"
          }
        }
      ]
    },
    {
      "cell_type": "markdown",
      "source": [
        "Plotting the accuracies"
      ],
      "metadata": {
        "id": "Qs-ySyVgssZl"
      }
    },
    {
      "cell_type": "code",
      "source": [
        "#Model_2 Accuracies\n",
        "fig = plt.figure()\n",
        "acc = history_dict_2[\"accuracy\"]\n",
        "val_acc = history_dict_2[\"val_accuracy\"]\n",
        "plt.plot(epochs, acc, \"ro\", label=\"Training acc\")\n",
        "plt.plot(epochs, val_acc, \"b\", label=\"Validation acc\")\n",
        "plt.title(\"Model_2 Training and validation accuracy\")\n",
        "plt.xlabel(\"Epochs\")\n",
        "plt.ylabel(\"Accuracy\")\n",
        "plt.legend()\n",
        "plt.show()"
      ],
      "metadata": {
        "colab": {
          "base_uri": "https://localhost:8080/",
          "height": 295
        },
        "id": "WALN9vhAiElL",
        "outputId": "06af2578-93a6-4a46-bc56-7a394ed4ac02"
      },
      "execution_count": 19,
      "outputs": [
        {
          "output_type": "display_data",
          "data": {
            "image/png": "[encoded data removed]",
            "text/plain": [
              "<Figure size 432x288 with 1 Axes>"
            ]
          },
          "metadata": {
            "needs_background": "light"
          }
        }
      ]
    },
    {
      "cell_type": "code",
      "source": [
        "#Model_3 Accuracies\n",
        "fig = plt.figure()\n",
        "acc = history_dict_3[\"accuracy\"]\n",
        "val_acc = history_dict_3[\"val_accuracy\"]\n",
        "plt.plot(epochs, acc, \"ro\", label = \"Training acc\") \n",
        "plt.plot(epochs, val_acc , \"b\", label = \"Validation acc\")\n",
        "plt.title(\"Model_3 Training and validation accuracy\")\n",
        "plt.xlabel(\"Epochs\")\n",
        "plt.ylabel(\"Accuracy\")\n",
        "plt.legend()\n",
        "plt.show()"
      ],
      "metadata": {
        "colab": {
          "base_uri": "https://localhost:8080/",
          "height": 295
        },
        "id": "QpaDMSQjuE73",
        "outputId": "e95a7276-c8a1-489a-d92f-88a63e935223"
      },
      "execution_count": 20,
      "outputs": [
        {
          "output_type": "display_data",
          "data": {
            "image/png": "[encoded data removed]",
            "text/plain": [
              "<Figure size 432x288 with 1 Axes>"
            ]
          },
          "metadata": {
            "needs_background": "light"
          }
        }
      ]
    },
    {
      "cell_type": "code",
      "source": [
        "history_2 = model_2.fit(x_test, y_test, epochs=7,\n",
        "                    batch_size=512, validation_data=(x_test, y_test))\n",
        "results = model_2.evaluate(x_test, y_test)\n",
        "results"
      ],
      "metadata": {
        "colab": {
          "base_uri": "https://localhost:8080/"
        },
        "id": "jQZRL9jfdbMO",
        "outputId": "2cb456ef-5e27-441f-df56-cc61a1a87086"
      },
      "execution_count": 21,
      "outputs": [
        {
          "output_type": "stream",
          "name": "stdout",
          "text": [
            "Epoch 1/7\n",
            "49/49 [==============================] - 3s 54ms/step - loss: 0.4727 - accuracy: 0.8605 - val_loss: 0.2696 - val_accuracy: 0.8927\n",
            "Epoch 2/7\n",
            "49/49 [==============================] - 2s 42ms/step - loss: 0.2614 - accuracy: 0.8972 - val_loss: 0.2062 - val_accuracy: 0.9220\n",
            "Epoch 3/7\n",
            "49/49 [==============================] - 2s 42ms/step - loss: 0.2071 - accuracy: 0.9183 - val_loss: 0.1636 - val_accuracy: 0.9419\n",
            "Epoch 4/7\n",
            "49/49 [==============================] - 2s 43ms/step - loss: 0.1682 - accuracy: 0.9357 - val_loss: 0.1368 - val_accuracy: 0.9506\n",
            "Epoch 5/7\n",
            "49/49 [==============================] - 2s 43ms/step - loss: 0.1377 - accuracy: 0.9493 - val_loss: 0.1057 - val_accuracy: 0.9658\n",
            "Epoch 6/7\n",
            "49/49 [==============================] - 2s 43ms/step - loss: 0.1124 - accuracy: 0.9594 - val_loss: 0.0837 - val_accuracy: 0.9742\n",
            "Epoch 7/7\n",
            "49/49 [==============================] - 2s 43ms/step - loss: 0.0919 - accuracy: 0.9674 - val_loss: 0.0668 - val_accuracy: 0.9815\n",
            "782/782 [==============================] - 2s 2ms/step - loss: 0.0668 - accuracy: 0.9815\n"
          ]
        },
        {
          "output_type": "execute_result",
          "data": {
            "text/plain": [
              "[0.06681840121746063, 0.9814800024032593]"
            ]
          },
          "metadata": {},
          "execution_count": 21
        }
      ]
    },
    {
      "cell_type": "code",
      "source": [
        "history_3 = model_3.fit(x_test, y_test, epochs=7,\n",
        "                    batch_size=512, validation_data=(x_test, y_test))\n",
        "results = model_3.evaluate(x_test, y_test)\n",
        "results"
      ],
      "metadata": {
        "colab": {
          "base_uri": "https://localhost:8080/"
        },
        "id": "OFx4MyQLefa0",
        "outputId": "c7c17707-78d2-4b22-e2c7-1296d152681f"
      },
      "execution_count": 22,
      "outputs": [
        {
          "output_type": "stream",
          "name": "stdout",
          "text": [
            "Epoch 1/7\n",
            "49/49 [==============================] - 3s 57ms/step - loss: 0.5425 - accuracy: 0.8592 - val_loss: 0.2625 - val_accuracy: 0.9030\n",
            "Epoch 2/7\n",
            "49/49 [==============================] - 2s 44ms/step - loss: 0.2579 - accuracy: 0.9016 - val_loss: 0.1893 - val_accuracy: 0.9319\n",
            "Epoch 3/7\n",
            "49/49 [==============================] - 2s 44ms/step - loss: 0.2016 - accuracy: 0.9241 - val_loss: 0.1595 - val_accuracy: 0.9423\n",
            "Epoch 4/7\n",
            "49/49 [==============================] - 2s 42ms/step - loss: 0.1522 - accuracy: 0.9440 - val_loss: 0.1449 - val_accuracy: 0.9421\n",
            "Epoch 5/7\n",
            "49/49 [==============================] - 2s 43ms/step - loss: 0.1197 - accuracy: 0.9560 - val_loss: 0.0800 - val_accuracy: 0.9756\n",
            "Epoch 6/7\n",
            "49/49 [==============================] - 2s 43ms/step - loss: 0.0900 - accuracy: 0.9688 - val_loss: 0.0573 - val_accuracy: 0.9844\n",
            "Epoch 7/7\n",
            "49/49 [==============================] - 2s 42ms/step - loss: 0.0683 - accuracy: 0.9773 - val_loss: 0.0509 - val_accuracy: 0.9853\n",
            "782/782 [==============================] - 2s 3ms/step - loss: 0.0509 - accuracy: 0.9853\n"
          ]
        },
        {
          "output_type": "execute_result",
          "data": {
            "text/plain": [
              "[0.05090346187353134, 0.985319972038269]"
            ]
          },
          "metadata": {},
          "execution_count": 22
        }
      ]
    },
    {
      "cell_type": "markdown",
      "source": [
        "**Affects**\n",
        "      \n",
        "    \n",
        "When the number of hidden layers is reduced, it has a direct impact on the network's accuracy because, when faced with a challenging problem, a network with fewer hidden layers may not be able to be trained effectively. Techniques that used less than three hidden layers struggled from a loss of accuracy, whereas architectures that used more than three hidden layers were shown to be inefficient in terms of time complexity.Techniques that used fewer than three hidden layers suffered from a loss of accuracy, whereas architectures that used more than three hidden layers were shown to be inefficient in terms of time complexity."
      ],
      "metadata": {
        "id": "2QsH58DZAYe3"
      }
    },
    {
      "cell_type": "markdown",
      "source": [
        "**2. Try using layers with more hidden units or fewer hidden units: 32 units, 64 units, and so \n",
        "on**"
      ],
      "metadata": {
        "id": "cHezs-C8t6Is"
      }
    },
    {
      "cell_type": "code",
      "source": [
        "model_2h = keras.Sequential([\n",
        "    layers.Dense(32, activation=\"relu\"),\n",
        "    layers.Dense(32, activation=\"relu\"),\n",
        "    layers.Dense(1, activation=\"sigmoid\")])\n",
        "\n",
        "model_2h.compile(optimizer=\"rmsprop\", loss=\"binary_crossentropy\", metrics=[\"accuracy\"])\n",
        "history_2h = model_2h.fit(x_train, y_train, epochs=20, batch_size=512 , validation_data=(x_val, y_val))\n",
        "results = model_2h.evaluate(x_val, y_val)"
      ],
      "metadata": {
        "colab": {
          "base_uri": "https://localhost:8080/"
        },
        "id": "dypgHggiuDjq",
        "outputId": "25815513-ade9-4f70-89db-1dc82938cf30"
      },
      "execution_count": 26,
      "outputs": [
        {
          "output_type": "stream",
          "name": "stdout",
          "text": [
            "Epoch 1/20\n",
            "49/49 [==============================] - 3s 48ms/step - loss: 0.4271 - accuracy: 0.8220 - val_loss: 0.2566 - val_accuracy: 0.9124\n",
            "Epoch 2/20\n",
            "49/49 [==============================] - 2s 42ms/step - loss: 0.2402 - accuracy: 0.9122 - val_loss: 0.1772 - val_accuracy: 0.9427\n",
            "Epoch 3/20\n",
            "49/49 [==============================] - 2s 41ms/step - loss: 0.1881 - accuracy: 0.9298 - val_loss: 0.1385 - val_accuracy: 0.9566\n",
            "Epoch 4/20\n",
            "49/49 [==============================] - 2s 41ms/step - loss: 0.1577 - accuracy: 0.9418 - val_loss: 0.1289 - val_accuracy: 0.9571\n",
            "Epoch 5/20\n",
            "49/49 [==============================] - 2s 42ms/step - loss: 0.1320 - accuracy: 0.9528 - val_loss: 0.0949 - val_accuracy: 0.9711\n",
            "Epoch 6/20\n",
            "49/49 [==============================] - 2s 42ms/step - loss: 0.1147 - accuracy: 0.9586 - val_loss: 0.0851 - val_accuracy: 0.9738\n",
            "Epoch 7/20\n",
            "49/49 [==============================] - 2s 43ms/step - loss: 0.0970 - accuracy: 0.9658 - val_loss: 0.0673 - val_accuracy: 0.9821\n",
            "Epoch 8/20\n",
            "49/49 [==============================] - 2s 41ms/step - loss: 0.0818 - accuracy: 0.9718 - val_loss: 0.0561 - val_accuracy: 0.9851\n",
            "Epoch 9/20\n",
            "49/49 [==============================] - 2s 42ms/step - loss: 0.0674 - accuracy: 0.9774 - val_loss: 0.0420 - val_accuracy: 0.9899\n",
            "Epoch 10/20\n",
            "49/49 [==============================] - 2s 41ms/step - loss: 0.0564 - accuracy: 0.9832 - val_loss: 0.0635 - val_accuracy: 0.9775\n",
            "Epoch 11/20\n",
            "49/49 [==============================] - 2s 41ms/step - loss: 0.0479 - accuracy: 0.9855 - val_loss: 0.0295 - val_accuracy: 0.9930\n",
            "Epoch 12/20\n",
            "49/49 [==============================] - 2s 42ms/step - loss: 0.0373 - accuracy: 0.9885 - val_loss: 0.0218 - val_accuracy: 0.9955\n",
            "Epoch 13/20\n",
            "49/49 [==============================] - 2s 41ms/step - loss: 0.0286 - accuracy: 0.9916 - val_loss: 0.0154 - val_accuracy: 0.9974\n",
            "Epoch 14/20\n",
            "49/49 [==============================] - 2s 41ms/step - loss: 0.0223 - accuracy: 0.9937 - val_loss: 0.0200 - val_accuracy: 0.9960\n",
            "Epoch 15/20\n",
            "49/49 [==============================] - 2s 41ms/step - loss: 0.0180 - accuracy: 0.9954 - val_loss: 0.0071 - val_accuracy: 0.9989\n",
            "Epoch 16/20\n",
            "49/49 [==============================] - 2s 41ms/step - loss: 0.0149 - accuracy: 0.9958 - val_loss: 0.0049 - val_accuracy: 0.9994\n",
            "Epoch 17/20\n",
            "49/49 [==============================] - 2s 42ms/step - loss: 0.0150 - accuracy: 0.9961 - val_loss: 0.0035 - val_accuracy: 0.9995\n",
            "Epoch 18/20\n",
            "49/49 [==============================] - 2s 42ms/step - loss: 0.0079 - accuracy: 0.9982 - val_loss: 0.0027 - val_accuracy: 0.9995\n",
            "Epoch 19/20\n",
            "49/49 [==============================] - 2s 42ms/step - loss: 0.0138 - accuracy: 0.9963 - val_loss: 0.0019 - val_accuracy: 0.9998\n",
            "Epoch 20/20\n",
            "49/49 [==============================] - 2s 41ms/step - loss: 0.0022 - accuracy: 0.9997 - val_loss: 0.2492 - val_accuracy: 0.9151\n",
            "313/313 [==============================] - 1s 3ms/step - loss: 0.2492 - accuracy: 0.9151\n"
          ]
        }
      ]
    },
    {
      "cell_type": "code",
      "source": [
        "results"
      ],
      "metadata": {
        "colab": {
          "base_uri": "https://localhost:8080/"
        },
        "id": "X7MIWUchEYKh",
        "outputId": "19201cdf-4a97-46c8-d8ce-5e9d7271f215"
      },
      "execution_count": 27,
      "outputs": [
        {
          "output_type": "execute_result",
          "data": {
            "text/plain": [
              "[0.24918024241924286, 0.9150999784469604]"
            ]
          },
          "metadata": {},
          "execution_count": 27
        }
      ]
    },
    {
      "cell_type": "code",
      "source": [
        "history_dict_2h = history_2h.history\n",
        "loss_values = history_dict_2h[\"loss\"]\n",
        "val_loss_values = history_dict_2h[\"val_loss\"]\n",
        "epochs = range(1, len(loss_values) + 1)\n",
        "plt.plot(epochs, loss_values, \"ro\",label=\"Hidden node model Training loss\") \n",
        "plt.plot(epochs, val_loss_values, \"b\",label=\"Hidden node mopdel Validation loss\") \n",
        "plt.title(\"Model_2 with hidden nodes Training and validation loss\")\n",
        "plt.xlabel(\"Epochs\")\n",
        "plt.ylabel(\"Loss\")\n",
        "plt.legend()\n",
        "plt.show()"
      ],
      "metadata": {
        "colab": {
          "base_uri": "https://localhost:8080/",
          "height": 295
        },
        "id": "KLT-5cDqu2pT",
        "outputId": "ffa6d0d7-942b-4f92-dd87-4f8e0fc33e6a"
      },
      "execution_count": 28,
      "outputs": [
        {
          "output_type": "display_data",
          "data": {
            "image/png": "[encoded data removed]",
            "text/plain": [
              "<Figure size 432x288 with 1 Axes>"
            ]
          },
          "metadata": {
            "needs_background": "light"
          }
        }
      ]
    },
    {
      "cell_type": "code",
      "source": [
        "#fig = plt.figure()\n",
        "acc = history_dict_2h[\"accuracy\"]\n",
        "val_acc = history_dict_2h[\"val_accuracy\"]\n",
        "plt.plot(epochs, acc, \"ro\", label = \"Hidden node model Training acc\") \n",
        "plt.plot(epochs, val_acc , \"b\", label = \"Hidden node model Validation acc\")\n",
        "plt.title(\"Model_2 with hidden nodes Training and validation accuracy\")\n",
        "plt.xlabel(\"Epochs\")\n",
        "plt.ylabel(\"Accuracy\")\n",
        "plt.legend()\n",
        "plt.show()"
      ],
      "metadata": {
        "colab": {
          "base_uri": "https://localhost:8080/",
          "height": 295
        },
        "id": "alyfl9lJ-OOw",
        "outputId": "d928c763-aa78-41a1-c9bd-753d741ee8a0"
      },
      "execution_count": 29,
      "outputs": [
        {
          "output_type": "display_data",
          "data": {
            "image/png": "[encoded data removed]",
            "text/plain": [
              "<Figure size 432x288 with 1 Axes>"
            ]
          },
          "metadata": {
            "needs_background": "light"
          }
        }
      ]
    },
    {
      "cell_type": "code",
      "source": [
        "history_2h = model_2h.fit(x_test, y_test, epochs=7,\n",
        "                    batch_size=512, validation_data=(x_test, y_test))\n",
        "results = model_2h.evaluate(x_test, y_test)\n",
        "results"
      ],
      "metadata": {
        "colab": {
          "base_uri": "https://localhost:8080/"
        },
        "id": "MG7ksOX8e2VZ",
        "outputId": "54f7a11a-947c-4f6b-c7ac-515d752d0e52"
      },
      "execution_count": 30,
      "outputs": [
        {
          "output_type": "stream",
          "name": "stdout",
          "text": [
            "Epoch 1/7\n",
            "49/49 [==============================] - 3s 60ms/step - loss: 0.4867 - accuracy: 0.8560 - val_loss: 0.2596 - val_accuracy: 0.8994\n",
            "Epoch 2/7\n",
            "49/49 [==============================] - 3s 51ms/step - loss: 0.2544 - accuracy: 0.9013 - val_loss: 0.1882 - val_accuracy: 0.9304\n",
            "Epoch 3/7\n",
            "49/49 [==============================] - 2s 50ms/step - loss: 0.1950 - accuracy: 0.9243 - val_loss: 0.1465 - val_accuracy: 0.9491\n",
            "Epoch 4/7\n",
            "49/49 [==============================] - 2s 50ms/step - loss: 0.1515 - accuracy: 0.9431 - val_loss: 0.1128 - val_accuracy: 0.9633\n",
            "Epoch 5/7\n",
            "49/49 [==============================] - 2s 51ms/step - loss: 0.1192 - accuracy: 0.9564 - val_loss: 0.0988 - val_accuracy: 0.9655\n",
            "Epoch 6/7\n",
            "49/49 [==============================] - 2s 51ms/step - loss: 0.0932 - accuracy: 0.9667 - val_loss: 0.0727 - val_accuracy: 0.9772\n",
            "Epoch 7/7\n",
            "49/49 [==============================] - 3s 51ms/step - loss: 0.0717 - accuracy: 0.9756 - val_loss: 0.0531 - val_accuracy: 0.9832\n",
            "782/782 [==============================] - 2s 3ms/step - loss: 0.0531 - accuracy: 0.9832\n"
          ]
        },
        {
          "output_type": "execute_result",
          "data": {
            "text/plain": [
              "[0.05307464301586151, 0.9832000136375427]"
            ]
          },
          "metadata": {},
          "execution_count": 30
        }
      ]
    },
    {
      "cell_type": "markdown",
      "source": [
        "**If we use less no of hidden units, we will get high training error and high generalization error due to underfitting.\n",
        "If we use high no of hidden units, we will get low training error but still have high generalization error due to overfitting.**"
      ],
      "metadata": {
        "id": "V1Lt7aF9BkdG"
      }
    },
    {
      "cell_type": "markdown",
      "source": [
        "**3.Try using the mse loss function instead of binary_crossentropy.**"
      ],
      "metadata": {
        "id": "aPXFq820COoa"
      }
    },
    {
      "cell_type": "code",
      "source": [
        "model_2m = keras.Sequential([\n",
        "    layers.Dense(16, activation=\"relu\"),\n",
        "    layers.Dense(16, activation=\"relu\"),\n",
        "    layers.Dense(1, activation=\"sigmoid\")])\n",
        "\n",
        "model_2m.compile(optimizer=\"rmsprop\",\n",
        "              loss=\"mse\",\n",
        "              metrics=[\"accuracy\"])\n",
        "\n",
        "history_2m = model_2m.fit(partial_x_train,\n",
        "                    partial_y_train,\n",
        "                    epochs=20,\n",
        "                    batch_size=512,\n",
        "                    validation_data=(x_val, y_val))\n",
        "results = model_2m.evaluate(x_val, y_val)"
      ],
      "metadata": {
        "colab": {
          "base_uri": "https://localhost:8080/"
        },
        "id": "i6C40cixyFKP",
        "outputId": "e6b56847-3f74-4429-817c-50d7ec7da58d"
      },
      "execution_count": 31,
      "outputs": [
        {
          "output_type": "stream",
          "name": "stdout",
          "text": [
            "Epoch 1/20\n",
            "30/30 [==============================] - 3s 48ms/step - loss: 0.1700 - accuracy: 0.7842 - val_loss: 0.1186 - val_accuracy: 0.8726\n",
            "Epoch 2/20\n",
            "30/30 [==============================] - 1s 38ms/step - loss: 0.0918 - accuracy: 0.9069 - val_loss: 0.1001 - val_accuracy: 0.8750\n",
            "Epoch 3/20\n",
            "30/30 [==============================] - 1s 40ms/step - loss: 0.0661 - accuracy: 0.9303 - val_loss: 0.0851 - val_accuracy: 0.8912\n",
            "Epoch 4/20\n",
            "30/30 [==============================] - 1s 37ms/step - loss: 0.0502 - accuracy: 0.9501 - val_loss: 0.0826 - val_accuracy: 0.8899\n",
            "Epoch 5/20\n",
            "30/30 [==============================] - 1s 40ms/step - loss: 0.0411 - accuracy: 0.9575 - val_loss: 0.0827 - val_accuracy: 0.8889\n",
            "Epoch 6/20\n",
            "30/30 [==============================] - 1s 40ms/step - loss: 0.0332 - accuracy: 0.9667 - val_loss: 0.0863 - val_accuracy: 0.8836\n",
            "Epoch 7/20\n",
            "30/30 [==============================] - 1s 38ms/step - loss: 0.0273 - accuracy: 0.9733 - val_loss: 0.0855 - val_accuracy: 0.8835\n",
            "Epoch 8/20\n",
            "30/30 [==============================] - 1s 41ms/step - loss: 0.0227 - accuracy: 0.9790 - val_loss: 0.0919 - val_accuracy: 0.8765\n",
            "Epoch 9/20\n",
            "30/30 [==============================] - 1s 38ms/step - loss: 0.0183 - accuracy: 0.9855 - val_loss: 0.0923 - val_accuracy: 0.8763\n",
            "Epoch 10/20\n",
            "30/30 [==============================] - 1s 37ms/step - loss: 0.0149 - accuracy: 0.9882 - val_loss: 0.0916 - val_accuracy: 0.8788\n",
            "Epoch 11/20\n",
            "30/30 [==============================] - 1s 37ms/step - loss: 0.0126 - accuracy: 0.9891 - val_loss: 0.0940 - val_accuracy: 0.8776\n",
            "Epoch 12/20\n",
            "30/30 [==============================] - 1s 37ms/step - loss: 0.0099 - accuracy: 0.9927 - val_loss: 0.0955 - val_accuracy: 0.8746\n",
            "Epoch 13/20\n",
            "30/30 [==============================] - 1s 37ms/step - loss: 0.0089 - accuracy: 0.9925 - val_loss: 0.0976 - val_accuracy: 0.8742\n",
            "Epoch 14/20\n",
            "30/30 [==============================] - 1s 36ms/step - loss: 0.0062 - accuracy: 0.9955 - val_loss: 0.1045 - val_accuracy: 0.8678\n",
            "Epoch 15/20\n",
            "30/30 [==============================] - 1s 36ms/step - loss: 0.0064 - accuracy: 0.9946 - val_loss: 0.1009 - val_accuracy: 0.8719\n",
            "Epoch 16/20\n",
            "30/30 [==============================] - 1s 37ms/step - loss: 0.0039 - accuracy: 0.9971 - val_loss: 0.1032 - val_accuracy: 0.8685\n",
            "Epoch 17/20\n",
            "30/30 [==============================] - 1s 41ms/step - loss: 0.0049 - accuracy: 0.9959 - val_loss: 0.1047 - val_accuracy: 0.8676\n",
            "Epoch 18/20\n",
            "30/30 [==============================] - 1s 37ms/step - loss: 0.0030 - accuracy: 0.9975 - val_loss: 0.1096 - val_accuracy: 0.8641\n",
            "Epoch 19/20\n",
            "30/30 [==============================] - 1s 37ms/step - loss: 0.0044 - accuracy: 0.9953 - val_loss: 0.1068 - val_accuracy: 0.8665\n",
            "Epoch 20/20\n",
            "30/30 [==============================] - 1s 37ms/step - loss: 0.0026 - accuracy: 0.9977 - val_loss: 0.1078 - val_accuracy: 0.8659\n",
            "313/313 [==============================] - 1s 2ms/step - loss: 0.1078 - accuracy: 0.8659\n"
          ]
        }
      ]
    },
    {
      "cell_type": "code",
      "source": [
        "results"
      ],
      "metadata": {
        "colab": {
          "base_uri": "https://localhost:8080/"
        },
        "id": "WKzoxqMrEc3Q",
        "outputId": "e2bd735c-779b-4a54-e4e7-c95b14beebdd"
      },
      "execution_count": 32,
      "outputs": [
        {
          "output_type": "execute_result",
          "data": {
            "text/plain": [
              "[0.10782164335250854, 0.8658999800682068]"
            ]
          },
          "metadata": {},
          "execution_count": 32
        }
      ]
    },
    {
      "cell_type": "markdown",
      "source": [
        "**Plot the losses and accurcies**"
      ],
      "metadata": {
        "id": "lQB_-2VXiJsJ"
      }
    },
    {
      "cell_type": "code",
      "source": [
        "#Plot the losses\n",
        "\n",
        "history_dict_2m = history_2m.history\n",
        "loss_values = history_dict_2m[\"loss\"]\n",
        "val_loss_values = history_dict_2m[\"val_loss\"]\n",
        "epochs = range(1, len(loss_values) + 1)\n",
        "plt.plot(epochs, loss_values, \"go\",label=\"mse model Training loss\") \n",
        "plt.plot(epochs, val_loss_values, \"b\",label=\"mse model Validation loss\") \n",
        "plt.title(\"mse Model_2 Training and validation losses\")\n",
        "plt.xlabel(\"Epochs\")\n",
        "plt.ylabel(\"Loss\")\n",
        "plt.legend()\n",
        "plt.show()"
      ],
      "metadata": {
        "colab": {
          "base_uri": "https://localhost:8080/",
          "height": 295
        },
        "id": "Xq7LLgczeyvs",
        "outputId": "4f91633b-0d29-4090-f285-280b4ffbd6ab"
      },
      "execution_count": 34,
      "outputs": [
        {
          "output_type": "display_data",
          "data": {
            "image/png": "[encoded data removed]",
            "text/plain": [
              "<Figure size 432x288 with 1 Axes>"
            ]
          },
          "metadata": {
            "needs_background": "light"
          }
        }
      ]
    },
    {
      "cell_type": "code",
      "source": [
        "#Plot the accuracy\n",
        "acc = history_dict_2m[\"accuracy\"]\n",
        "val_acc = history_dict_2m[\"val_accuracy\"]\n",
        "plt.plot(epochs, acc, \"bo\", label = \"mse model Training acc\") \n",
        "plt.plot(epochs, val_acc , \"b\", label = \"mse model Validation acc\")\n",
        "plt.title(\"mse Model_2 Training and validation accuracy\")\n",
        "plt.xlabel(\"Epochs\")\n",
        "plt.ylabel(\"Accuracy\")\n",
        "plt.legend()\n",
        "plt.show()"
      ],
      "metadata": {
        "colab": {
          "base_uri": "https://localhost:8080/",
          "height": 295
        },
        "id": "-Evg1F0Yj-zY",
        "outputId": "539bfc1b-853c-4082-ddce-fb854cde31e7"
      },
      "execution_count": 35,
      "outputs": [
        {
          "output_type": "display_data",
          "data": {
            "image/png": "[encoded data removed]",
            "text/plain": [
              "<Figure size 432x288 with 1 Axes>"
            ]
          },
          "metadata": {
            "needs_background": "light"
          }
        }
      ]
    },
    {
      "cell_type": "code",
      "source": [
        "history_2m = model_2m.fit(x_test, y_test, epochs=7,\n",
        "                    batch_size=512, validation_data=(x_test, y_test))\n",
        "results = model_2m.evaluate(x_test, y_test)\n",
        "results"
      ],
      "metadata": {
        "colab": {
          "base_uri": "https://localhost:8080/"
        },
        "id": "6bw4iU1yh0Es",
        "outputId": "3e1112cb-3433-491f-eaaf-86d071797b23"
      },
      "execution_count": 36,
      "outputs": [
        {
          "output_type": "stream",
          "name": "stdout",
          "text": [
            "Epoch 1/7\n",
            "49/49 [==============================] - 3s 52ms/step - loss: 0.1103 - accuracy: 0.8640 - val_loss: 0.0790 - val_accuracy: 0.9040\n",
            "Epoch 2/7\n",
            "49/49 [==============================] - 2s 43ms/step - loss: 0.0762 - accuracy: 0.9073 - val_loss: 0.0593 - val_accuracy: 0.9315\n",
            "Epoch 3/7\n",
            "49/49 [==============================] - 2s 43ms/step - loss: 0.0600 - accuracy: 0.9296 - val_loss: 0.0515 - val_accuracy: 0.9408\n",
            "Epoch 4/7\n",
            "49/49 [==============================] - 2s 43ms/step - loss: 0.0493 - accuracy: 0.9436 - val_loss: 0.0384 - val_accuracy: 0.9593\n",
            "Epoch 5/7\n",
            "49/49 [==============================] - 2s 45ms/step - loss: 0.0404 - accuracy: 0.9558 - val_loss: 0.0336 - val_accuracy: 0.9650\n",
            "Epoch 6/7\n",
            "49/49 [==============================] - 2s 43ms/step - loss: 0.0342 - accuracy: 0.9638 - val_loss: 0.0269 - val_accuracy: 0.9721\n",
            "Epoch 7/7\n",
            "49/49 [==============================] - 2s 43ms/step - loss: 0.0289 - accuracy: 0.9698 - val_loss: 0.0241 - val_accuracy: 0.9758\n",
            "782/782 [==============================] - 2s 3ms/step - loss: 0.0241 - accuracy: 0.9758\n"
          ]
        },
        {
          "output_type": "execute_result",
          "data": {
            "text/plain": [
              "[0.02406742423772812, 0.9757999777793884]"
            ]
          },
          "metadata": {},
          "execution_count": 36
        }
      ]
    },
    {
      "cell_type": "markdown",
      "source": [
        "**4. Try using the tanh activation (an activation that was popular in the early days of neural \n",
        "networks) instead of relu.**"
      ],
      "metadata": {
        "id": "qFVhMzPq1ZT-"
      }
    },
    {
      "cell_type": "code",
      "source": [
        "model_2t = keras.Sequential([\n",
        "    layers.Dense(16, activation=\"tanh\"),\n",
        "    layers.Dense(16, activation=\"tanh\"),\n",
        "    layers.Dense(1, activation=\"sigmoid\")])\n",
        "\n",
        "model_2t.compile(optimizer=\"rmsprop\", loss=\"binary_crossentropy\", metrics=[\"accuracy\"])\n",
        "\n",
        "history_2t = model_2t.fit(partial_x_train,\n",
        "                    partial_y_train,\n",
        "                    epochs=20,\n",
        "                    batch_size=512,\n",
        "                    validation_data=(x_val, y_val))\n"
      ],
      "metadata": {
        "colab": {
          "base_uri": "https://localhost:8080/"
        },
        "id": "GGsQzobY1jNj",
        "outputId": "2ec22770-47ed-422c-f9c1-1111b4357a20"
      },
      "execution_count": 37,
      "outputs": [
        {
          "output_type": "stream",
          "name": "stdout",
          "text": [
            "Epoch 1/20\n",
            "30/30 [==============================] - 2s 50ms/step - loss: 0.4946 - accuracy: 0.8003 - val_loss: 0.3748 - val_accuracy: 0.8679\n",
            "Epoch 2/20\n",
            "30/30 [==============================] - 1s 37ms/step - loss: 0.2928 - accuracy: 0.9054 - val_loss: 0.2995 - val_accuracy: 0.8822\n",
            "Epoch 3/20\n",
            "30/30 [==============================] - 1s 39ms/step - loss: 0.2066 - accuracy: 0.9343 - val_loss: 0.3101 - val_accuracy: 0.8709\n",
            "Epoch 4/20\n",
            "30/30 [==============================] - 1s 43ms/step - loss: 0.1560 - accuracy: 0.9485 - val_loss: 0.2930 - val_accuracy: 0.8822\n",
            "Epoch 5/20\n",
            "30/30 [==============================] - 1s 39ms/step - loss: 0.1204 - accuracy: 0.9607 - val_loss: 0.2920 - val_accuracy: 0.8870\n",
            "Epoch 6/20\n",
            "30/30 [==============================] - 1s 38ms/step - loss: 0.0923 - accuracy: 0.9720 - val_loss: 0.3243 - val_accuracy: 0.8834\n",
            "Epoch 7/20\n",
            "30/30 [==============================] - 1s 38ms/step - loss: 0.0745 - accuracy: 0.9775 - val_loss: 0.3664 - val_accuracy: 0.8787\n",
            "Epoch 8/20\n",
            "30/30 [==============================] - 1s 37ms/step - loss: 0.0596 - accuracy: 0.9832 - val_loss: 0.3961 - val_accuracy: 0.8754\n",
            "Epoch 9/20\n",
            "30/30 [==============================] - 1s 37ms/step - loss: 0.0470 - accuracy: 0.9863 - val_loss: 0.4348 - val_accuracy: 0.8734\n",
            "Epoch 10/20\n",
            "30/30 [==============================] - 1s 39ms/step - loss: 0.0355 - accuracy: 0.9911 - val_loss: 0.4793 - val_accuracy: 0.8700\n",
            "Epoch 11/20\n",
            "30/30 [==============================] - 1s 38ms/step - loss: 0.0264 - accuracy: 0.9932 - val_loss: 0.5216 - val_accuracy: 0.8698\n",
            "Epoch 12/20\n",
            "30/30 [==============================] - 1s 38ms/step - loss: 0.0232 - accuracy: 0.9937 - val_loss: 0.5639 - val_accuracy: 0.8696\n",
            "Epoch 13/20\n",
            "30/30 [==============================] - 1s 40ms/step - loss: 0.0103 - accuracy: 0.9989 - val_loss: 0.6158 - val_accuracy: 0.8657\n",
            "Epoch 14/20\n",
            "30/30 [==============================] - 1s 38ms/step - loss: 0.0223 - accuracy: 0.9928 - val_loss: 0.6470 - val_accuracy: 0.8666\n",
            "Epoch 15/20\n",
            "30/30 [==============================] - 1s 38ms/step - loss: 0.0046 - accuracy: 0.9995 - val_loss: 0.6772 - val_accuracy: 0.8643\n",
            "Epoch 16/20\n",
            "30/30 [==============================] - 1s 38ms/step - loss: 0.0213 - accuracy: 0.9937 - val_loss: 0.7131 - val_accuracy: 0.8648\n",
            "Epoch 17/20\n",
            "30/30 [==============================] - 1s 37ms/step - loss: 0.0024 - accuracy: 0.9998 - val_loss: 0.7280 - val_accuracy: 0.8639\n",
            "Epoch 18/20\n",
            "30/30 [==============================] - 1s 39ms/step - loss: 0.0017 - accuracy: 0.9999 - val_loss: 0.7653 - val_accuracy: 0.8638\n",
            "Epoch 19/20\n",
            "30/30 [==============================] - 1s 37ms/step - loss: 0.0139 - accuracy: 0.9963 - val_loss: 0.8068 - val_accuracy: 0.8636\n",
            "Epoch 20/20\n",
            "30/30 [==============================] - 1s 37ms/step - loss: 9.3733e-04 - accuracy: 0.9999 - val_loss: 0.8229 - val_accuracy: 0.8621\n"
          ]
        }
      ]
    },
    {
      "cell_type": "code",
      "source": [
        "results = model_2t.evaluate(x_val, y_val)\n",
        "results"
      ],
      "metadata": {
        "colab": {
          "base_uri": "https://localhost:8080/"
        },
        "id": "90gfDPSY3ft4",
        "outputId": "fa738b6b-f009-42b5-e4ea-5b1e72cd768c"
      },
      "execution_count": 38,
      "outputs": [
        {
          "output_type": "stream",
          "name": "stdout",
          "text": [
            "313/313 [==============================] - 1s 3ms/step - loss: 0.8229 - accuracy: 0.8621\n"
          ]
        },
        {
          "output_type": "execute_result",
          "data": {
            "text/plain": [
              "[0.8229233622550964, 0.8621000051498413]"
            ]
          },
          "metadata": {},
          "execution_count": 38
        }
      ]
    },
    {
      "cell_type": "code",
      "source": [
        "#Tanh activation model losses\n",
        "history_dict_2t = history_2t.history\n",
        "loss_values = history_dict_2t[\"loss\"]\n",
        "val_loss_values = history_dict_2t[\"val_loss\"]\n",
        "epochs = range(1, len(loss_values) + 1)\n",
        "plt.plot(epochs, loss_values, \"bo\",label=\"tanh model Training loss\") \n",
        "plt.plot(epochs, val_loss_values, \"b\",label=\"tanh model Validation loss\") \n",
        "plt.title(\"Training and validation losses of tanh activation model\" )\n",
        "plt.xlabel(\"Epochs\")\n",
        "plt.ylabel(\"Loss\")\n",
        "plt.legend()\n",
        "plt.show()"
      ],
      "metadata": {
        "colab": {
          "base_uri": "https://localhost:8080/",
          "height": 295
        },
        "id": "nWfDQ6n73vU1",
        "outputId": "8fa81ff8-2183-4158-9de0-d9683f54393b"
      },
      "execution_count": 39,
      "outputs": [
        {
          "output_type": "display_data",
          "data": {
            "image/png": "[encoded data removed]",
            "text/plain": [
              "<Figure size 432x288 with 1 Axes>"
            ]
          },
          "metadata": {
            "needs_background": "light"
          }
        }
      ]
    },
    {
      "cell_type": "code",
      "source": [
        "#tanh activation model Accuracies\n",
        "acc = history_dict_2t[\"accuracy\"]\n",
        "val_acc = history_dict_2t[\"val_accuracy\"]\n",
        "plt.plot(epochs, acc, \"bo\", label = \"tanh model Training acc\") \n",
        "plt.plot(epochs, val_acc , \"b\", label = \"tanh model Validation acc\")\n",
        "plt.title(\"tanh Model Training and validation accuracy\")\n",
        "plt.xlabel(\"Epochs\")\n",
        "plt.ylabel(\"Accuracy\")\n",
        "plt.legend()\n",
        "plt.show()"
      ],
      "metadata": {
        "colab": {
          "base_uri": "https://localhost:8080/",
          "height": 295
        },
        "id": "PJWgC4yl6uuD",
        "outputId": "4dd47604-a50d-491b-9a5f-9911fac5a7e3"
      },
      "execution_count": 40,
      "outputs": [
        {
          "output_type": "display_data",
          "data": {
            "image/png": "[encoded data removed]",
            "text/plain": [
              "<Figure size 432x288 with 1 Axes>"
            ]
          },
          "metadata": {
            "needs_background": "light"
          }
        }
      ]
    },
    {
      "cell_type": "code",
      "source": [
        "history_2t = model_2t.fit(x_test, y_test, epochs=7,\n",
        "                    batch_size=512, validation_data=(x_test, y_test))\n",
        "results = model_2t.evaluate(x_test, y_test)\n",
        "results"
      ],
      "metadata": {
        "colab": {
          "base_uri": "https://localhost:8080/"
        },
        "id": "KEzV6bbuiOWq",
        "outputId": "2b89422d-c3e8-407e-c2bd-8d8c5ef5774c"
      },
      "execution_count": 41,
      "outputs": [
        {
          "output_type": "stream",
          "name": "stdout",
          "text": [
            "Epoch 1/7\n",
            "49/49 [==============================] - 3s 53ms/step - loss: 0.6176 - accuracy: 0.8578 - val_loss: 0.2821 - val_accuracy: 0.8978\n",
            "Epoch 2/7\n",
            "49/49 [==============================] - 2s 43ms/step - loss: 0.2687 - accuracy: 0.8984 - val_loss: 0.2113 - val_accuracy: 0.9202\n",
            "Epoch 3/7\n",
            "49/49 [==============================] - 2s 42ms/step - loss: 0.2133 - accuracy: 0.9191 - val_loss: 0.1671 - val_accuracy: 0.9405\n",
            "Epoch 4/7\n",
            "49/49 [==============================] - 2s 43ms/step - loss: 0.1736 - accuracy: 0.9344 - val_loss: 0.1343 - val_accuracy: 0.9531\n",
            "Epoch 5/7\n",
            "49/49 [==============================] - 2s 43ms/step - loss: 0.1450 - accuracy: 0.9442 - val_loss: 0.1077 - val_accuracy: 0.9632\n",
            "Epoch 6/7\n",
            "49/49 [==============================] - 2s 44ms/step - loss: 0.1218 - accuracy: 0.9551 - val_loss: 0.0886 - val_accuracy: 0.9706\n",
            "Epoch 7/7\n",
            "49/49 [==============================] - 2s 42ms/step - loss: 0.1020 - accuracy: 0.9632 - val_loss: 0.0744 - val_accuracy: 0.9766\n",
            "782/782 [==============================] - 2s 2ms/step - loss: 0.0744 - accuracy: 0.9766\n"
          ]
        },
        {
          "output_type": "execute_result",
          "data": {
            "text/plain": [
              "[0.07444517314434052, 0.9765999913215637]"
            ]
          },
          "metadata": {},
          "execution_count": 41
        }
      ]
    },
    {
      "cell_type": "markdown",
      "source": [
        "**5.Use any technique we studied in class, and these include regularization, dropout, etc., to \n",
        "get your model to perform better on validation.**"
      ],
      "metadata": {
        "id": "XgUNmIkv8d1D"
      }
    },
    {
      "cell_type": "markdown",
      "source": [
        "**Dropout**"
      ],
      "metadata": {
        "id": "-mnctnmN_aeu"
      }
    },
    {
      "cell_type": "code",
      "source": [
        "from tensorflow.keras import regularizers\n",
        "model_dropout = keras.Sequential([layers.Dense(20, activation = \"relu\"),\n",
        "                                  layers.Dropout(0.2),\n",
        "                                  layers.Dense(15, activation = \"relu\"),\n",
        "                                  layers.Dropout(0.2),\n",
        "                                  layers.Dense(1, activation = \"sigmoid\")])"
      ],
      "metadata": {
        "id": "JTn3X4KJ8hIS"
      },
      "execution_count": 42,
      "outputs": []
    },
    {
      "cell_type": "code",
      "source": [
        "#Compling the model\n",
        "model_dropout.compile(optimizer=\"rmsprop\",\n",
        "              loss=\"binary_crossentropy\",\n",
        "              metrics=[\"accuracy\"])\n",
        "\n",
        "history_dropout = model_dropout.fit(partial_x_train,\n",
        "                    partial_y_train,\n",
        "                    epochs=20,\n",
        "                    batch_size=512,\n",
        "                    validation_data=(x_val, y_val))"
      ],
      "metadata": {
        "colab": {
          "base_uri": "https://localhost:8080/"
        },
        "id": "TO_FDA4xF0d8",
        "outputId": "8ce3b1e2-b663-420c-b729-bad02126bc65"
      },
      "execution_count": 43,
      "outputs": [
        {
          "output_type": "stream",
          "name": "stdout",
          "text": [
            "Epoch 1/20\n",
            "30/30 [==============================] - 2s 55ms/step - loss: 0.5328 - accuracy: 0.7569 - val_loss: 0.3984 - val_accuracy: 0.8623\n",
            "Epoch 2/20\n",
            "30/30 [==============================] - 1s 44ms/step - loss: 0.3557 - accuracy: 0.8733 - val_loss: 0.3064 - val_accuracy: 0.8885\n",
            "Epoch 3/20\n",
            "30/30 [==============================] - 1s 45ms/step - loss: 0.2672 - accuracy: 0.9065 - val_loss: 0.3036 - val_accuracy: 0.8796\n",
            "Epoch 4/20\n",
            "30/30 [==============================] - 1s 46ms/step - loss: 0.2133 - accuracy: 0.9249 - val_loss: 0.2854 - val_accuracy: 0.8859\n",
            "Epoch 5/20\n",
            "30/30 [==============================] - 1s 45ms/step - loss: 0.1763 - accuracy: 0.9393 - val_loss: 0.2795 - val_accuracy: 0.8887\n",
            "Epoch 6/20\n",
            "30/30 [==============================] - 1s 44ms/step - loss: 0.1433 - accuracy: 0.9527 - val_loss: 0.3392 - val_accuracy: 0.8743\n",
            "Epoch 7/20\n",
            "30/30 [==============================] - 1s 45ms/step - loss: 0.1186 - accuracy: 0.9637 - val_loss: 0.3100 - val_accuracy: 0.8841\n",
            "Epoch 8/20\n",
            "30/30 [==============================] - 1s 45ms/step - loss: 0.0991 - accuracy: 0.9695 - val_loss: 0.3238 - val_accuracy: 0.8841\n",
            "Epoch 9/20\n",
            "30/30 [==============================] - 1s 44ms/step - loss: 0.0790 - accuracy: 0.9778 - val_loss: 0.3603 - val_accuracy: 0.8817\n",
            "Epoch 10/20\n",
            "30/30 [==============================] - 1s 45ms/step - loss: 0.0666 - accuracy: 0.9802 - val_loss: 0.3862 - val_accuracy: 0.8784\n",
            "Epoch 11/20\n",
            "30/30 [==============================] - 1s 45ms/step - loss: 0.0521 - accuracy: 0.9861 - val_loss: 0.4144 - val_accuracy: 0.8813\n",
            "Epoch 12/20\n",
            "30/30 [==============================] - 1s 46ms/step - loss: 0.0444 - accuracy: 0.9879 - val_loss: 0.4517 - val_accuracy: 0.8796\n",
            "Epoch 13/20\n",
            "30/30 [==============================] - 1s 44ms/step - loss: 0.0350 - accuracy: 0.9909 - val_loss: 0.4853 - val_accuracy: 0.8777\n",
            "Epoch 14/20\n",
            "30/30 [==============================] - 1s 45ms/step - loss: 0.0272 - accuracy: 0.9937 - val_loss: 0.5252 - val_accuracy: 0.8781\n",
            "Epoch 15/20\n",
            "30/30 [==============================] - 1s 45ms/step - loss: 0.0210 - accuracy: 0.9948 - val_loss: 0.5928 - val_accuracy: 0.8752\n",
            "Epoch 16/20\n",
            "30/30 [==============================] - 1s 45ms/step - loss: 0.0201 - accuracy: 0.9947 - val_loss: 0.5974 - val_accuracy: 0.8758\n",
            "Epoch 17/20\n",
            "30/30 [==============================] - 1s 44ms/step - loss: 0.0132 - accuracy: 0.9976 - val_loss: 0.6640 - val_accuracy: 0.8751\n",
            "Epoch 18/20\n",
            "30/30 [==============================] - 1s 44ms/step - loss: 0.0107 - accuracy: 0.9981 - val_loss: 0.7139 - val_accuracy: 0.8743\n",
            "Epoch 19/20\n",
            "30/30 [==============================] - 2s 56ms/step - loss: 0.0104 - accuracy: 0.9979 - val_loss: 0.7260 - val_accuracy: 0.8747\n",
            "Epoch 20/20\n",
            "30/30 [==============================] - 1s 44ms/step - loss: 0.0099 - accuracy: 0.9983 - val_loss: 0.7609 - val_accuracy: 0.8734\n"
          ]
        }
      ]
    },
    {
      "cell_type": "code",
      "source": [
        "results = model_dropout.evaluate(x_val, y_val)\n",
        "results"
      ],
      "metadata": {
        "colab": {
          "base_uri": "https://localhost:8080/"
        },
        "id": "B8ABUk3xJpRe",
        "outputId": "f0b57e88-6798-4d9f-d52c-f900e490b1a3"
      },
      "execution_count": 44,
      "outputs": [
        {
          "output_type": "stream",
          "name": "stdout",
          "text": [
            "313/313 [==============================] - 1s 3ms/step - loss: 0.7609 - accuracy: 0.8734\n"
          ]
        },
        {
          "output_type": "execute_result",
          "data": {
            "text/plain": [
              "[0.7609493732452393, 0.8733999729156494]"
            ]
          },
          "metadata": {},
          "execution_count": 44
        }
      ]
    },
    {
      "cell_type": "code",
      "source": [
        "#Training and validation losses of Dropout model\n",
        "history_dict_dropout = history_dropout.history\n",
        "loss_values = history_dict_dropout[\"loss\"]\n",
        "val_loss_values = history_dict_dropout[\"val_loss\"]\n",
        "epochs = range(1, len(loss_values) + 1)\n",
        "plt.plot(epochs, loss_values, \"bo\",label=\"dropout modelTraining loss\") \n",
        "plt.plot(epochs, val_loss_values, \"b\",label=\"dropout model Validation loss\") \n",
        "plt.title(\"Training and validation losses of dropout model\" )\n",
        "plt.xlabel(\"Epochs\")\n",
        "plt.ylabel(\"Loss\")\n",
        "plt.legend()\n",
        "plt.show()"
      ],
      "metadata": {
        "colab": {
          "base_uri": "https://localhost:8080/",
          "height": 295
        },
        "id": "4yIz-m7jJ_B0",
        "outputId": "75f58fd8-cc32-4cfe-e07e-746aa31b526a"
      },
      "execution_count": 45,
      "outputs": [
        {
          "output_type": "display_data",
          "data": {
            "image/png": "[encoded data removed]",
            "text/plain": [
              "<Figure size 432x288 with 1 Axes>"
            ]
          },
          "metadata": {
            "needs_background": "light"
          }
        }
      ]
    },
    {
      "cell_type": "code",
      "source": [
        "#Training and Validation Accuracies for dropout model\n",
        "acc = history_dict_dropout[\"accuracy\"]\n",
        "val_acc = history_dict_dropout[\"val_accuracy\"]\n",
        "plt.plot(epochs, acc, \"bo\", label = \"dropout model Training acc\") \n",
        "plt.plot(epochs, val_acc , \"b\", label = \"dropout model Validation acc\")\n",
        "plt.title(\"dropout Model Training and validation accuracy\")\n",
        "plt.xlabel(\"Epochs\")\n",
        "plt.ylabel(\"Accuracy\")\n",
        "plt.legend()\n",
        "plt.show()"
      ],
      "metadata": {
        "colab": {
          "base_uri": "https://localhost:8080/",
          "height": 295
        },
        "id": "E_5HkpC6ZXm0",
        "outputId": "366298b4-4d89-48cc-e8b1-306f72b0acd2"
      },
      "execution_count": 46,
      "outputs": [
        {
          "output_type": "display_data",
          "data": {
            "image/png": "[encoded data removed]",
            "text/plain": [
              "<Figure size 432x288 with 1 Axes>"
            ]
          },
          "metadata": {
            "needs_background": "light"
          }
        }
      ]
    },
    {
      "cell_type": "code",
      "source": [
        "history_dropout = model_dropout.fit(x_test, y_test, epochs = 7,\n",
        "                    batch_size=512, validation_data=(x_val, y_val))\n",
        "results = model_dropout.evaluate(x_test , y_test)\n",
        "results"
      ],
      "metadata": {
        "colab": {
          "base_uri": "https://localhost:8080/"
        },
        "id": "HDQf4FqFnI7r",
        "outputId": "7ca75dfe-2351-4aa1-c964-522bc52948b6"
      },
      "execution_count": 48,
      "outputs": [
        {
          "output_type": "stream",
          "name": "stdout",
          "text": [
            "Epoch 1/7\n",
            "49/49 [==============================] - 2s 46ms/step - loss: 0.3920 - accuracy: 0.8576 - val_loss: 0.3058 - val_accuracy: 0.8774\n",
            "Epoch 2/7\n",
            "49/49 [==============================] - 2s 40ms/step - loss: 0.2716 - accuracy: 0.8940 - val_loss: 0.2994 - val_accuracy: 0.8853\n",
            "Epoch 3/7\n",
            "49/49 [==============================] - 2s 40ms/step - loss: 0.2199 - accuracy: 0.9181 - val_loss: 0.3100 - val_accuracy: 0.8847\n",
            "Epoch 4/7\n",
            "49/49 [==============================] - 2s 42ms/step - loss: 0.1802 - accuracy: 0.9348 - val_loss: 0.3236 - val_accuracy: 0.8882\n",
            "Epoch 5/7\n",
            "49/49 [==============================] - 2s 41ms/step - loss: 0.1510 - accuracy: 0.9462 - val_loss: 0.3526 - val_accuracy: 0.8884\n",
            "Epoch 6/7\n",
            "49/49 [==============================] - 2s 40ms/step - loss: 0.1278 - accuracy: 0.9560 - val_loss: 0.3843 - val_accuracy: 0.8884\n",
            "Epoch 7/7\n",
            "49/49 [==============================] - 2s 40ms/step - loss: 0.1078 - accuracy: 0.9634 - val_loss: 0.4360 - val_accuracy: 0.8864\n",
            "782/782 [==============================] - 2s 3ms/step - loss: 0.0741 - accuracy: 0.9764\n"
          ]
        },
        {
          "output_type": "execute_result",
          "data": {
            "text/plain": [
              "[0.07406830042600632, 0.9764000177383423]"
            ]
          },
          "metadata": {},
          "execution_count": 48
        }
      ]
    }
  ]
}